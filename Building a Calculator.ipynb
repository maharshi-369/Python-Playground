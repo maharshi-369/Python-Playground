{
 "cells": [
  {
   "cell_type": "code",
   "execution_count": 1,
   "id": "14661f98-4127-4a08-a884-9dad7d90474b",
   "metadata": {},
   "outputs": [],
   "source": [
    "#importing Necessary Libraries\n",
    "\n",
    "import numpy as np\n",
    "import pandas as pd"
   ]
  },
  {
   "cell_type": "code",
   "execution_count": 2,
   "id": "81da13f9-5bda-4023-8c04-44b934035f6d",
   "metadata": {},
   "outputs": [
    {
     "name": "stdout",
     "output_type": "stream",
     "text": [
      "Select the type of Operation to be performed:\n",
      "1. Addition\n",
      "2. Multiplication\n",
      "3. Division\n"
     ]
    },
    {
     "name": "stdin",
     "output_type": "stream",
     "text": [
      "Enter the Number code to perform the respective operation (1/2/3):  2\n",
      "Enter first number:  1\n",
      "Enter second number:  0\n"
     ]
    },
    {
     "name": "stdout",
     "output_type": "stream",
     "text": [
      "Total product of values is: 0\n"
     ]
    },
    {
     "name": "stdin",
     "output_type": "stream",
     "text": [
      "Do you want to perform another operation? (yes/no):  no\n",
      "Do you want to select another operation? (yes/no):  no\n"
     ]
    }
   ],
   "source": [
    "def add(num1, num2):\n",
    "    if num1 == 0:\n",
    "        return num2\n",
    "    elif num2 == 0:\n",
    "        return num1 \n",
    "    else:\n",
    "        return num1 + num2\n",
    "\n",
    "def multiply(num1, num2):\n",
    "    if num1 == 0 or num2 == 0:\n",
    "        return 0\n",
    "    else:\n",
    "        return num1 * num2\n",
    "   \n",
    "def divide(num1, num2):\n",
    "    if num2 == 0:\n",
    "        return (\"Cannot perform the Operation with the given input.\")\n",
    "    return num1 / num2\n",
    "\n",
    "def main():\n",
    "    while True:\n",
    "        print(\"Select the type of Operation to be performed:\")\n",
    "        print(\"1. Addition\")\n",
    "        print(\"2. Multiplication\")\n",
    "        print(\"3. Division\")\n",
    "\n",
    "        try:\n",
    "            type_of_operation = int(input(\"Enter the Number code to perform the respective operation (1/2/3): \"))\n",
    "        except ValueError:\n",
    "            print(\"Invalid input. Please enter a number.\")\n",
    "            continue\n",
    "        \n",
    "        if type_of_operation not in (1, 2, 3):\n",
    "            print(\"Invalid operation code. Enter a value between 1 and 3.\")\n",
    "            continue\n",
    "\n",
    "        while True:\n",
    "            try:\n",
    "                num1 = int(input(\"Enter first number: \"))  # taking inputs from the user\n",
    "                num2 = int(input(\"Enter second number: \"))\n",
    "            except ValueError:\n",
    "                print(\"Invalid input. Please enter a valid number.\")\n",
    "                continue\n",
    "            \n",
    "            if type_of_operation == 1:\n",
    "                print(\"Total sum of values is:\", add(num1, num2))\n",
    "            elif type_of_operation == 2:\n",
    "                print(\"Total product of values is:\", multiply(num1, num2))\n",
    "            elif type_of_operation == 3:\n",
    "                print(\"Result of division is:\", divide(num1, num2))\n",
    "            \n",
    "            # break the loop after an operation\n",
    "            repeat = input(\"Do you want to perform another operation? (yes/no): \").lower()\n",
    "            if repeat != 'yes':\n",
    "                break\n",
    "        \n",
    "        # if the user wants to restart the operation selection\n",
    "        restart = input(\"Do you want to select another operation? (yes/no): \").lower()\n",
    "        if restart != 'yes':\n",
    "            break\n",
    "\n",
    "if __name__ == \"__main__\":\n",
    "    main()\n",
    "\n"
   ]
  },
  {
   "cell_type": "code",
   "execution_count": null,
   "id": "aa9faad3-813c-403c-a3f0-dbed285889e8",
   "metadata": {},
   "outputs": [],
   "source": []
  }
 ],
 "metadata": {
  "kernelspec": {
   "display_name": "Python 3 (ipykernel)",
   "language": "python",
   "name": "python3"
  },
  "language_info": {
   "codemirror_mode": {
    "name": "ipython",
    "version": 3
   },
   "file_extension": ".py",
   "mimetype": "text/x-python",
   "name": "python",
   "nbconvert_exporter": "python",
   "pygments_lexer": "ipython3",
   "version": "3.11.9"
  }
 },
 "nbformat": 4,
 "nbformat_minor": 5
}
